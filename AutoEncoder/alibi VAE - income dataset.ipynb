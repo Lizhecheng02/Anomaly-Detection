{
 "cells": [
  {
   "cell_type": "code",
   "execution_count": 1,
   "id": "4b216c03",
   "metadata": {},
   "outputs": [],
   "source": [
    "# !pip install alibi seaborn"
   ]
  },
  {
   "cell_type": "code",
   "execution_count": 2,
   "id": "0cb00e7f",
   "metadata": {},
   "outputs": [],
   "source": [
    "import os \n",
    "import alibi \n",
    "import matplotlib\n",
    "%matplotlib inline \n",
    "import matplotlib.pyplot as plt \n",
    "import numpy as np \n",
    "import pandas as pd \n",
    "import seaborn as sns \n",
    "import tensorflow as tf \n",
    "\n",
    "from sklearn.metrics import accuracy_score, confusion_matrix, f1_score, precision_score, recall_score\n",
    "from sklearn.preprocessing import OneHotEncoder \n",
    "from tensorflow.keras.layers import Dense, InputLayer \n",
    "from alibi_detect.od import OutlierVAE \n",
    "from alibi_detect.utils.perturbation import inject_outlier_tabular \n",
    "from alibi_detect.utils.fetching import fetch_detector\n",
    "from alibi_detect.saving import save_detector, load_detector\n",
    "from alibi_detect.utils.visualize import plot_instance_score\n",
    "\n",
    "def set_seed(s=0):\n",
    "    np.random.seed(s)\n",
    "    tf.random.set_seed(s)"
   ]
  },
  {
   "cell_type": "code",
   "execution_count": 3,
   "id": "e8fc2d93",
   "metadata": {},
   "outputs": [
    {
     "data": {
      "text/plain": [
       "((32561, 12), (32561,))"
      ]
     },
     "execution_count": 3,
     "metadata": {},
     "output_type": "execute_result"
    }
   ],
   "source": [
    "adult = alibi.datasets.fetch_adult()\n",
    "X, y = adult.data, adult.target\n",
    "feature_names = adult.feature_names\n",
    "category_map_tmp = adult.category_map\n",
    "X.shape, y.shape"
   ]
  },
  {
   "cell_type": "code",
   "execution_count": 4,
   "id": "521e15bd",
   "metadata": {},
   "outputs": [],
   "source": [
    "set_seed(0)\n",
    "Xy_perm = np.random.permutation(np.c_[X, y])\n",
    "X, y = Xy_perm[:, :-1], Xy_perm[:, -1]"
   ]
  },
  {
   "cell_type": "code",
   "execution_count": 5,
   "id": "df40b82f",
   "metadata": {},
   "outputs": [
    {
     "name": "stdout",
     "output_type": "stream",
     "text": [
      "['Education', 'Marital Status', 'Relationship', 'Age', 'Capital Gain', 'Capital Loss', 'Hours per week']\n"
     ]
    }
   ],
   "source": [
    "keep_cols = [2, 3, 5, 0, 8, 9, 10]\n",
    "feature_names = feature_names[2:4] + feature_names[5:6] + feature_names[0:1] + feature_names[8:11]\n",
    "print(feature_names)"
   ]
  },
  {
   "cell_type": "code",
   "execution_count": 6,
   "id": "c22f521b",
   "metadata": {},
   "outputs": [
    {
     "name": "stdout",
     "output_type": "stream",
     "text": [
      "(32561, 7)\n"
     ]
    }
   ],
   "source": [
    "X = X[:, keep_cols]\n",
    "print(X.shape)"
   ]
  },
  {
   "cell_type": "code",
   "execution_count": 7,
   "id": "84ca1ed8",
   "metadata": {},
   "outputs": [],
   "source": [
    "category_map = {}\n",
    "i = 0\n",
    "for k, v in category_map_tmp.items():\n",
    "    if k in keep_cols:\n",
    "        category_map[i] = v \n",
    "        i += 1"
   ]
  },
  {
   "cell_type": "code",
   "execution_count": 8,
   "id": "44939d75",
   "metadata": {},
   "outputs": [],
   "source": [
    "minmax = False\n",
    "X_num = X[:, -4:].astype(np.float32, copy=False)\n",
    "if minmax:\n",
    "    xmin, xmax = X_num.min(axis=0), X_num.max(axis=0)\n",
    "    rng = (-1., -1.)\n",
    "    X_num_scaled = (X_num - xmin) / (xmax - xmin) * (rng[1] - rng[0]) + rng[0]\n",
    "else:\n",
    "    mu, sigma = X_num.mean(axis=0), X_num.std(axis=0)\n",
    "    X_num_scaled = (X_num - mu) / sigma"
   ]
  },
  {
   "cell_type": "code",
   "execution_count": 9,
   "id": "f10bcbf1",
   "metadata": {},
   "outputs": [
    {
     "data": {
      "text/html": [
       "<style>#sk-container-id-1 {color: black;background-color: white;}#sk-container-id-1 pre{padding: 0;}#sk-container-id-1 div.sk-toggleable {background-color: white;}#sk-container-id-1 label.sk-toggleable__label {cursor: pointer;display: block;width: 100%;margin-bottom: 0;padding: 0.3em;box-sizing: border-box;text-align: center;}#sk-container-id-1 label.sk-toggleable__label-arrow:before {content: \"▸\";float: left;margin-right: 0.25em;color: #696969;}#sk-container-id-1 label.sk-toggleable__label-arrow:hover:before {color: black;}#sk-container-id-1 div.sk-estimator:hover label.sk-toggleable__label-arrow:before {color: black;}#sk-container-id-1 div.sk-toggleable__content {max-height: 0;max-width: 0;overflow: hidden;text-align: left;background-color: #f0f8ff;}#sk-container-id-1 div.sk-toggleable__content pre {margin: 0.2em;color: black;border-radius: 0.25em;background-color: #f0f8ff;}#sk-container-id-1 input.sk-toggleable__control:checked~div.sk-toggleable__content {max-height: 200px;max-width: 100%;overflow: auto;}#sk-container-id-1 input.sk-toggleable__control:checked~label.sk-toggleable__label-arrow:before {content: \"▾\";}#sk-container-id-1 div.sk-estimator input.sk-toggleable__control:checked~label.sk-toggleable__label {background-color: #d4ebff;}#sk-container-id-1 div.sk-label input.sk-toggleable__control:checked~label.sk-toggleable__label {background-color: #d4ebff;}#sk-container-id-1 input.sk-hidden--visually {border: 0;clip: rect(1px 1px 1px 1px);clip: rect(1px, 1px, 1px, 1px);height: 1px;margin: -1px;overflow: hidden;padding: 0;position: absolute;width: 1px;}#sk-container-id-1 div.sk-estimator {font-family: monospace;background-color: #f0f8ff;border: 1px dotted black;border-radius: 0.25em;box-sizing: border-box;margin-bottom: 0.5em;}#sk-container-id-1 div.sk-estimator:hover {background-color: #d4ebff;}#sk-container-id-1 div.sk-parallel-item::after {content: \"\";width: 100%;border-bottom: 1px solid gray;flex-grow: 1;}#sk-container-id-1 div.sk-label:hover label.sk-toggleable__label {background-color: #d4ebff;}#sk-container-id-1 div.sk-serial::before {content: \"\";position: absolute;border-left: 1px solid gray;box-sizing: border-box;top: 0;bottom: 0;left: 50%;z-index: 0;}#sk-container-id-1 div.sk-serial {display: flex;flex-direction: column;align-items: center;background-color: white;padding-right: 0.2em;padding-left: 0.2em;position: relative;}#sk-container-id-1 div.sk-item {position: relative;z-index: 1;}#sk-container-id-1 div.sk-parallel {display: flex;align-items: stretch;justify-content: center;background-color: white;position: relative;}#sk-container-id-1 div.sk-item::before, #sk-container-id-1 div.sk-parallel-item::before {content: \"\";position: absolute;border-left: 1px solid gray;box-sizing: border-box;top: 0;bottom: 0;left: 50%;z-index: -1;}#sk-container-id-1 div.sk-parallel-item {display: flex;flex-direction: column;z-index: 1;position: relative;background-color: white;}#sk-container-id-1 div.sk-parallel-item:first-child::after {align-self: flex-end;width: 50%;}#sk-container-id-1 div.sk-parallel-item:last-child::after {align-self: flex-start;width: 50%;}#sk-container-id-1 div.sk-parallel-item:only-child::after {width: 0;}#sk-container-id-1 div.sk-dashed-wrapped {border: 1px dashed gray;margin: 0 0.4em 0.5em 0.4em;box-sizing: border-box;padding-bottom: 0.4em;background-color: white;}#sk-container-id-1 div.sk-label label {font-family: monospace;font-weight: bold;display: inline-block;line-height: 1.2em;}#sk-container-id-1 div.sk-label-container {text-align: center;}#sk-container-id-1 div.sk-container {/* jupyter's `normalize.less` sets `[hidden] { display: none; }` but bootstrap.min.css set `[hidden] { display: none !important; }` so we also need the `!important` here to be able to override the default hidden behavior on the sphinx rendered scikit-learn.org. See: https://github.com/scikit-learn/scikit-learn/issues/21755 */display: inline-block !important;position: relative;}#sk-container-id-1 div.sk-text-repr-fallback {display: none;}</style><div id=\"sk-container-id-1\" class=\"sk-top-container\"><div class=\"sk-text-repr-fallback\"><pre>OneHotEncoder()</pre><b>In a Jupyter environment, please rerun this cell to show the HTML representation or trust the notebook. <br />On GitHub, the HTML representation is unable to render, please try loading this page with nbviewer.org.</b></div><div class=\"sk-container\" hidden><div class=\"sk-item\"><div class=\"sk-estimator sk-toggleable\"><input class=\"sk-toggleable__control sk-hidden--visually\" id=\"sk-estimator-id-1\" type=\"checkbox\" checked><label for=\"sk-estimator-id-1\" class=\"sk-toggleable__label sk-toggleable__label-arrow\">OneHotEncoder</label><div class=\"sk-toggleable__content\"><pre>OneHotEncoder()</pre></div></div></div></div></div>"
      ],
      "text/plain": [
       "OneHotEncoder()"
      ]
     },
     "execution_count": 9,
     "metadata": {},
     "output_type": "execute_result"
    }
   ],
   "source": [
    "X_cat = X[:, :-4].copy()\n",
    "ohe = OneHotEncoder(categories='auto')\n",
    "ohe.fit(X_cat)"
   ]
  },
  {
   "cell_type": "code",
   "execution_count": 10,
   "id": "819db625",
   "metadata": {},
   "outputs": [
    {
     "name": "stdout",
     "output_type": "stream",
     "text": [
      "(25000, 7) (25000,) (5000, 7) (5000,) (2561, 7) (2561,)\n"
     ]
    }
   ],
   "source": [
    "X = np.c_[X_cat, X_num_scaled].astype(np.float32, copy=False)\n",
    "\n",
    "n_train = 25000 \n",
    "n_valid = 5000 \n",
    "X_train, y_train = X[:n_train, :], y[:n_train]\n",
    "X_valid, y_valid = X[n_train:n_train + n_valid, :], y[n_train:n_train + n_valid]\n",
    "X_test, y_test = X[n_train + n_valid:, :], y[n_train + n_valid:]\n",
    "print(X_train.shape, y_train.shape, X_valid.shape, y_valid.shape, X_test.shape, y_test.shape)"
   ]
  },
  {
   "cell_type": "markdown",
   "id": "20c636d6",
   "metadata": {},
   "source": [
    "### Create outliers"
   ]
  },
  {
   "cell_type": "code",
   "execution_count": 11,
   "id": "6985d7f1",
   "metadata": {},
   "outputs": [
    {
     "name": "stdout",
     "output_type": "stream",
     "text": [
      "[0, 1, 2] [3, 4, 5, 6]\n"
     ]
    }
   ],
   "source": [
    "cat_cols = list(category_map.keys())\n",
    "num_cols = [col for col in range(X.shape[1]) if col not in cat_cols]\n",
    "print(cat_cols, num_cols)"
   ]
  },
  {
   "cell_type": "code",
   "execution_count": 12,
   "id": "99ad1816",
   "metadata": {},
   "outputs": [
    {
     "name": "stdout",
     "output_type": "stream",
     "text": [
      "9.68% outliers\n"
     ]
    }
   ],
   "source": [
    "perc_outlier = 10\n",
    "data = inject_outlier_tabular(X_valid, num_cols, perc_outlier, n_std=8.0, min_std=6.0)\n",
    "X_threshold, y_threshold = data.data, data.target\n",
    "X_threshold_, y_threshold_ = X_threshold.copy(), y_threshold.copy()\n",
    "outlier_perc = 100 * y_threshold.sum() / len(y_threshold)\n",
    "print('{:.2f}% outliers'.format(outlier_perc))"
   ]
  },
  {
   "cell_type": "code",
   "execution_count": 13,
   "id": "2ee36a1d",
   "metadata": {},
   "outputs": [
    {
     "name": "stdout",
     "output_type": "stream",
     "text": [
      "Capital Gain changed by 11.89.\n"
     ]
    }
   ],
   "source": [
    "outlier_idx = np.where(y_threshold != 0)[0]\n",
    "vdiff = X_threshold[outlier_idx[0]] - X_valid[outlier_idx[0]]\n",
    "fdiff = np.where(vdiff != 0)[0]\n",
    "print('{} changed by {:.2f}.'.format(feature_names[fdiff[0]], vdiff[fdiff[0]]))"
   ]
  },
  {
   "cell_type": "code",
   "execution_count": 14,
   "id": "7e88d77e",
   "metadata": {},
   "outputs": [
    {
     "name": "stdout",
     "output_type": "stream",
     "text": [
      "9.64% outliers\n"
     ]
    }
   ],
   "source": [
    "data = inject_outlier_tabular(X_test, num_cols, perc_outlier, n_std=8.0, min_std=6.0)\n",
    "X_outlier, y_outlier = data.data, data.target\n",
    "print('{:.2f}% outliers'.format(100 * y_outlier.sum() / len(y_outlier)))"
   ]
  },
  {
   "cell_type": "code",
   "execution_count": 15,
   "id": "1ac1aa75",
   "metadata": {},
   "outputs": [
    {
     "name": "stdout",
     "output_type": "stream",
     "text": [
      "(25000, 17) (5000, 17) (2561, 17)\n"
     ]
    }
   ],
   "source": [
    "X_train_ohe = ohe.transform(X_train[:, :-4].copy())\n",
    "X_threshold_ohe = ohe.transform(X_threshold[:, :-4].copy())\n",
    "X_outlier_ohe = ohe.transform(X_outlier[:, :-4].copy())\n",
    "print(X_train_ohe.shape, X_threshold_ohe.shape, X_outlier_ohe.shape)"
   ]
  },
  {
   "cell_type": "code",
   "execution_count": 16,
   "id": "7f4463e7",
   "metadata": {},
   "outputs": [
    {
     "name": "stdout",
     "output_type": "stream",
     "text": [
      "(25000, 21) (5000, 21) (2561, 21)\n"
     ]
    }
   ],
   "source": [
    "X_train = np.c_[X_train_ohe.toarray(), X_train[:, -4:]].astype(np.float32, copy=False)\n",
    "X_threshold = np.c_[X_threshold_ohe.toarray(), X_threshold[:, -4:]].astype(np.float32, copy=False)\n",
    "X_outlier = np.c_[X_outlier_ohe.toarray(), X_outlier[:, -4:]].astype(np.float32, copy=False)\n",
    "print(X_train.shape, X_threshold.shape, X_outlier.shape)"
   ]
  },
  {
   "cell_type": "code",
   "execution_count": 17,
   "id": "0a02cbfa",
   "metadata": {},
   "outputs": [
    {
     "name": "stdout",
     "output_type": "stream",
     "text": [
      "WARNING:tensorflow:No training configuration found in the save file, so the model was *not* compiled. Compile it manually.\n",
      "WARNING:tensorflow:No training configuration found in the save file, so the model was *not* compiled. Compile it manually.\n"
     ]
    },
    {
     "name": "stderr",
     "output_type": "stream",
     "text": [
      "C:\\Users\\86183\\anaconda23-3\\lib\\site-packages\\alibi_detect\\saving\\_tensorflow\\loading.py:221: UserWarning: Trying to load detector from version 0.7.3dev when using version 0.11.1. This may lead to breaking code or invalid results.\n",
      "  warnings.warn(f'Trying to load detector from version {meta_dict[\"version\"]} when using version '\n",
      "No threshold level set. Need to infer threshold using `infer_threshold`.\n"
     ]
    }
   ],
   "source": [
    "load_outlier_detector = True\n",
    "filepath = './alibi_vae_adultincome/'\n",
    "if load_outlier_detector:\n",
    "    detector_type = 'outlier'\n",
    "    dataset = 'adult'\n",
    "    detector_name = 'OutlierVAE'\n",
    "    od = fetch_detector(filepath, detector_type, dataset, detector_name)\n",
    "else:\n",
    "    n_features = X_train.shape[1]\n",
    "    latent_dim = 2\n",
    "    \n",
    "    encoder_net = tf.keras.Sequential([\n",
    "        InputLayer(input_shape=(n_features, )),\n",
    "        Dense(25, activation=tf.nn.relu),\n",
    "        Dense(10, activation=tf.nn.relu),\n",
    "        Dense(5, activation=tf.nn.relu)\n",
    "    ])\n",
    "    decoder_net = tf.keras.Sequential([\n",
    "        InputLayer(input_shape=(latent_dim, )),\n",
    "        Dense(5, activation=tf.nn.relu),\n",
    "        Dense(10, activation=tf.nn.relu),\n",
    "        Dense(25, activation=tf.nn.relu),\n",
    "        Dense(n_features, activation=None)\n",
    "    ])\n",
    "    \n",
    "    od = OutlierVAE(\n",
    "        threshold=None,\n",
    "        score_type='mse',\n",
    "        encoder_net=encoder_net,\n",
    "        decoder_net=decoder_net,\n",
    "        latent_dim=latent_dim,\n",
    "        samples=5\n",
    "    )\n",
    "    \n",
    "    od.fit(\n",
    "        X_train,\n",
    "        loss_fn=tf.keras.losses.mse,\n",
    "        epochs=5,\n",
    "        verbose=True\n",
    "    )\n",
    "    \n",
    "    save_detector(od, filepath)"
   ]
  },
  {
   "cell_type": "code",
   "execution_count": 18,
   "id": "4c1df921",
   "metadata": {},
   "outputs": [
    {
     "name": "stdout",
     "output_type": "stream",
     "text": [
      "New threshold: 1.4805329303741441\n"
     ]
    }
   ],
   "source": [
    "od.infer_threshold(X_threshold, threshold_perc=100-outlier_perc, outlier_perc=100)\n",
    "print('New threshold: {}'.format(od.threshold))"
   ]
  },
  {
   "cell_type": "code",
   "execution_count": 19,
   "id": "d4ee7a83",
   "metadata": {},
   "outputs": [],
   "source": [
    "od_preds = od.predict(\n",
    "    X_outlier,\n",
    "    outlier_type='instance',\n",
    "    return_feature_score=True,\n",
    "    return_instance_score=True\n",
    ")"
   ]
  },
  {
   "cell_type": "code",
   "execution_count": 20,
   "id": "06115285",
   "metadata": {},
   "outputs": [
    {
     "name": "stdout",
     "output_type": "stream",
     "text": [
      "F1 score: 0.9076305220883533 -- Accuracy: 0.9820382663022257 -- Precision: 0.900398406374502 -- Recall: 0.9149797570850202\n"
     ]
    },
    {
     "data": {
      "image/png": "[encoded data removed]",
      "text/plain": [
       "<Figure size 640x480 with 2 Axes>"
      ]
     },
     "metadata": {},
     "output_type": "display_data"
    }
   ],
   "source": [
    "labels = data.target_names\n",
    "y_pred = od_preds['data']['is_outlier']\n",
    "f1 = f1_score(y_outlier, y_pred)\n",
    "acc = accuracy_score(y_outlier, y_pred)\n",
    "prec = precision_score(y_outlier, y_pred)\n",
    "rec = recall_score(y_outlier, y_pred)\n",
    "print('F1 score: {} -- Accuracy: {} -- Precision: {} -- Recall: {}'.format(f1, acc, prec, rec))\n",
    "cm = confusion_matrix(y_outlier, y_pred)\n",
    "df_cm = pd.DataFrame(cm, index=labels, columns=labels)\n",
    "sns.heatmap(df_cm, annot=True, cbar=True, linewidths=.5)\n",
    "plt.show()"
   ]
  },
  {
   "cell_type": "code",
   "execution_count": 21,
   "id": "ca9f4e8d",
   "metadata": {},
   "outputs": [
    {
     "data": {
      "image/png": "[encoded data removed]",
      "text/plain": [
       "<Figure size 640x480 with 1 Axes>"
      ]
     },
     "metadata": {},
     "output_type": "display_data"
    }
   ],
   "source": [
    "plot_instance_score(od_preds, y_outlier.astype(int), labels, od.threshold, ylim=(0, 25))"
   ]
  }
 ],
 "metadata": {
  "kernelspec": {
   "display_name": "Python 3 (ipykernel)",
   "language": "python",
   "name": "python3"
  },
  "language_info": {
   "codemirror_mode": {
    "name": "ipython",
    "version": 3
   },
   "file_extension": ".py",
   "mimetype": "text/x-python",
   "name": "python",
   "nbconvert_exporter": "python",
   "pygments_lexer": "ipython3",
   "version": "3.10.9"
  }
 },
 "nbformat": 4,
 "nbformat_minor": 5
}
