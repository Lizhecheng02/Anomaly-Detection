{
 "cells": [
  {
   "cell_type": "code",
   "execution_count": 1,
   "id": "d59a2ae3-e19e-48e2-a4d5-d9bdd5407510",
   "metadata": {
    "tags": []
   },
   "outputs": [
    {
     "name": "stderr",
     "output_type": "stream",
     "text": [
      "C:\\Users\\86183\\anaconda23-3\\lib\\site-packages\\torchvision\\io\\image.py:13: UserWarning: Failed to load image Python extension: '[WinError 127] 找不到指定的程序。'If you don't plan on using image functionality from `torchvision.io`, you can ignore this warning. Otherwise, there might be something wrong with your environment. Did you have `libjpeg` or `libpng` installed before building `torchvision` from source?\n",
      "  warn(\n"
     ]
    }
   ],
   "source": [
    "import numpy as np \n",
    "import random \n",
    "import torch \n",
    "import torchvision\n",
    "import torchvision.transforms as transforms\n",
    "import torch.nn.functional as F\n",
    "import pandas as pd\n",
    "import pdb \n",
    "import torchvision.models as models \n",
    "\n",
    "from torch.utils.data import DataLoader, RandomSampler, SequentialSampler, TensorDataset\n",
    "from torch import nn\n",
    "from torch.autograd import Variable\n",
    "from torch.optim import Adam, AdamW\n",
    "from sklearn.cluster import MiniBatchKMeans\n",
    "from scipy.cluster.vq import vq, kmeans\n",
    "from qqdm import qqdm, format_str\n",
    "from tqdm import tqdm"
   ]
  },
  {
   "cell_type": "code",
   "execution_count": 2,
   "id": "de381f21-7774-4011-87e7-ff8be76903e6",
   "metadata": {},
   "outputs": [
    {
     "name": "stdout",
     "output_type": "stream",
     "text": [
      "(140001, 64, 64, 3) (19999, 64, 64, 3)\n"
     ]
    }
   ],
   "source": [
    "train = np.load('./data-bin/trainingset.npy', allow_pickle=True)\n",
    "test = np.load('./data-bin/testingset.npy', allow_pickle=True)\n",
    "print(train.shape, test.shape)"
   ]
  },
  {
   "cell_type": "code",
   "execution_count": 3,
   "id": "b02bc5a6-f1d6-4b6e-be0a-603a6a691b66",
   "metadata": {
    "tags": []
   },
   "outputs": [
    {
     "data": {
      "text/plain": [
       "((64, 64, 3), (64, 64, 3))"
      ]
     },
     "execution_count": 3,
     "metadata": {},
     "output_type": "execute_result"
    }
   ],
   "source": [
    "train[1].shape, test[1].shape"
   ]
  },
  {
   "cell_type": "code",
   "execution_count": 4,
   "id": "8e341f89-611c-4c00-a901-ab798fb485ca",
   "metadata": {},
   "outputs": [],
   "source": [
    "train = train[:10000]"
   ]
  },
  {
   "cell_type": "code",
   "execution_count": 5,
   "id": "c552c418-e3bf-4447-8993-8036e00fa216",
   "metadata": {
    "tags": []
   },
   "outputs": [],
   "source": [
    "def same_seeds(seed):\n",
    "    random.seed(seed)\n",
    "    np.random.seed(seed)\n",
    "    torch.manual_seed(seed)\n",
    "    if torch.cuda.is_available():\n",
    "        torch.cuda.manual_seed(seed)\n",
    "        torch.cuda.manual_seed_all(seed)\n",
    "    torch.backends.cudnn.benchmark = False\n",
    "    torch.backends.cudnn.deterministic = True\n",
    "same_seeds(2023)"
   ]
  },
  {
   "cell_type": "code",
   "execution_count": 6,
   "id": "cc09ca36-6fba-4cb6-90b5-5658bac03af1",
   "metadata": {
    "tags": []
   },
   "outputs": [
    {
     "data": {
      "text/plain": [
       "'cpu'"
      ]
     },
     "execution_count": 6,
     "metadata": {},
     "output_type": "execute_result"
    }
   ],
   "source": [
    "device = 'cuda' if torch.cuda.is_available() else 'cpu'\n",
    "device"
   ]
  },
  {
   "cell_type": "code",
   "execution_count": 7,
   "id": "98b168bb-e208-4ebe-9ee2-0fad1c8e5fbf",
   "metadata": {
    "tags": []
   },
   "outputs": [],
   "source": [
    "class fcn_autoencoder(nn.Module):\n",
    "    def __init__(self):\n",
    "        super(fcn_autoencoder, self).__init__()\n",
    "        self.encoder = nn.Sequential(\n",
    "            nn.Linear(64 * 64 * 3, 128),\n",
    "            nn.ReLU(True),\n",
    "            nn.Linear(128, 64),\n",
    "            nn.ReLU(True),\n",
    "            nn.Linear(64, 12),\n",
    "            nn.ReLU(True),\n",
    "            nn.Linear(12, 3)\n",
    "        )\n",
    "        \n",
    "        self.decoder = nn.Sequential(\n",
    "            nn.Linear(3, 12),\n",
    "            nn.ReLU(True),\n",
    "            nn.Linear(12, 64),\n",
    "            nn.ReLU(True),\n",
    "            nn.Linear(64, 128),\n",
    "            nn.ReLU(True),\n",
    "            nn.Linear(128, 64 * 64 * 3),\n",
    "            nn.Tanh()\n",
    "        )\n",
    "    \n",
    "    def forward(self, x):\n",
    "        x = self.encoder(x)\n",
    "        x = self.decoder(x)\n",
    "        return x"
   ]
  },
  {
   "cell_type": "code",
   "execution_count": 8,
   "id": "812812d4-5659-47a4-93c0-33d68e1dfafe",
   "metadata": {
    "tags": []
   },
   "outputs": [],
   "source": [
    "class conv_autoencoder(nn.Module):\n",
    "    def __init__(self):\n",
    "        super(conv_autoencoder, self).__init__()\n",
    "        self.encoder = nn.Sequential(\n",
    "            nn.Conv2d(3, 12, 4, stride=2, padding=1),\n",
    "            nn.ReLU(),\n",
    "            nn.Conv2d(12, 24, 4, stride=2, padding=1),\n",
    "            nn.ReLU(),\n",
    "            nn.Conv2d(24, 48, 4, stride=2, padding=1),\n",
    "            nn.ReLU(),\n",
    "            nn.Conv2d(48, 96, 4, stride=2, padding=1),\n",
    "            nn.ReLU()\n",
    "        )\n",
    "        \n",
    "        self.decoder = nn.Sequential(\n",
    "            nn.ConvTranspose2d(96, 48, 4, stride=2, padding=1),\n",
    "            nn.ReLU(),\n",
    "            nn.ConvTranspose2d(48, 24, 4, stride=2, padding=1),\n",
    "            nn.ReLU(),\n",
    "            nn.ConvTranspose2d(24, 12, 4, stride=2, padding=1),\n",
    "            nn.ReLU(),\n",
    "            nn.ConvTranspose2d(12, 3, 4, stride=2, padding=1),\n",
    "            nn.Tanh()\n",
    "        )\n",
    "        \n",
    "    def forward(self, x):\n",
    "        x = self.encoder(x)\n",
    "        x = self.decoder(x)\n",
    "        return x"
   ]
  },
  {
   "cell_type": "code",
   "execution_count": 9,
   "id": "251e9dc9-0d28-403f-9e17-e32cb5513514",
   "metadata": {
    "tags": []
   },
   "outputs": [],
   "source": [
    "class VAE(nn.Module):\n",
    "    def __init__(self):\n",
    "        super(VAE, self).__init__()\n",
    "        self.encoder = nn.Sequential(\n",
    "            nn.Conv2d(3, 12, 4, stride=2, padding=1),\n",
    "            nn.ReLU(),\n",
    "            nn.Conv2d(12, 24, 4, stride=2, padding=1),\n",
    "            nn.ReLU()\n",
    "        )\n",
    "        self.enc_out_1 = nn.Sequential(\n",
    "            nn.Conv2d(24, 48, 4, stride=2, padding=1),\n",
    "            nn.ReLU()\n",
    "        )\n",
    "        self.enc_out_2 = nn.Sequential(\n",
    "            nn.Conv2d(24, 48, 4, stride=2, padding=1),\n",
    "            nn.ReLU()\n",
    "        )\n",
    "        self.decoder = nn.Sequential(\n",
    "            nn.ConvTranspose2d(48, 24, 4, stride=2, padding=1),\n",
    "            nn.ReLU(),\n",
    "            nn.ConvTranspose2d(24, 12, 4, stride=2, padding=1),\n",
    "            nn.ReLU(),\n",
    "            nn.ConvTranspose2d(12, 3, 4, stride=2, padding=1),\n",
    "            nn.Tanh()\n",
    "        )\n",
    "        \n",
    "    def encode(self, x):\n",
    "        h1 = self.encoder(x)\n",
    "        return self.enc_out_1(h1), self.enc_out_2(h1)\n",
    "    \n",
    "    def reparametrize(self, mu, logvar):\n",
    "        std = logvar.mul(0.5).exp_()\n",
    "        if torch.cuda.is_available():\n",
    "            eps = torch.cuda.FloatTensor(std.size()).normal_()\n",
    "        else:\n",
    "            eps = torch.FloatTensor(std.size()).normal_()\n",
    "        eps = Variable(eps)\n",
    "        return eps.mul(std).add_(mu)\n",
    "    \n",
    "    def decode(self, z):\n",
    "        return self.decoder(z)\n",
    "\n",
    "    def forward(self, x):\n",
    "        mu, logvar = self.encode(x)\n",
    "        z = self.reparametrize(mu, logvar)\n",
    "        return self.decode(z), mu, logvar\n",
    "    \n",
    "def loss_vae(recon_x, x, mu, logvar, criterion):\n",
    "    mse = criterion(recon_x, x)\n",
    "    kl = mu.pow(2).add_(logvar.exp()).mul_(-1).add_(1).add_(logvar)\n",
    "    kld = torch.sum(kl).mul_(-0.5)\n",
    "    return mse + kld"
   ]
  },
  {
   "cell_type": "code",
   "execution_count": 10,
   "id": "c8e03990-8be6-4761-a613-8847d81e853e",
   "metadata": {
    "tags": []
   },
   "outputs": [],
   "source": [
    "class Resnet(nn.Module):\n",
    "    def __init__(self, fc_hidden1=1024, fc_hidden2=768, drop_p=0.3, CNN_embed_dim=256):\n",
    "        super(Resnet, self).__init__()\n",
    "        self.fc_hidden1 = fc_hidden1\n",
    "        self.fc_hidden2 = fc_hidden2\n",
    "        self.CNN_embed_dim = CNN_embed_dim\n",
    "        self.ch1, self.ch2, self.ch3, self.ch4 = 16, 32, 64, 128\n",
    "        self.k1, self.k2, self.k3, self.k4 = (5, 5), (3, 3), (3, 3), (3, 3)\n",
    "        self.s1, self.s2, self.s3, self.s4 = (2, 2), (2, 2), (2, 2), (2, 2)\n",
    "        self.pd1, self.pd2, self.pd3, self.pd4 = (0, 0), (0, 0), (0, 0), (0, 0)\n",
    "        \n",
    "        resnet = models.resnet18(weights=None)\n",
    "        modules = list(resnet.children())[:-1]\n",
    "        self.resnet = nn.Sequential(*modules)\n",
    "        self.fc1 = nn.Linear(resnet.fc.in_features, self.fc_hidden1)\n",
    "        self.bn1 = nn.BatchNorm1d(self.fc_hidden1, momentum=0.01)\n",
    "        self.fc2 = nn.Linear(self.fc_hidden1, self.fc_hidden2)\n",
    "        self.bn2 = nn.BatchNorm1d(self.fc_hidden2, momentum=0.01)\n",
    "        self.fc3_mu = nn.Linear(self.fc_hidden2, self.CNN_embed_dim)\n",
    "        self.fc4 = nn.Linear(self.CNN_embed_dim, self.fc_hidden2)\n",
    "        self.fc_bn4 = nn.BatchNorm1d(self.fc_hidden2)\n",
    "        self.fc5 = nn.Linear(self.fc_hidden2, 64 * 4 * 4)\n",
    "        self.fc_bn5 = nn.BatchNorm1d(64 * 4 * 4)\n",
    "        self.relu = nn.ReLU(inplace=True)\n",
    "        \n",
    "        self.convTrans6 = nn.Sequential(\n",
    "            nn.ConvTranspose2d(in_channels=64, out_channels=32, kernel_size=self.k4, stride=self.s4, padding=self.pd4),\n",
    "            nn.BatchNorm2d(32, momentum=0.01),\n",
    "            nn.ReLU(inplace=True)\n",
    "        )\n",
    "        self.convTrans7 = nn.Sequential(\n",
    "            nn.ConvTranspose2d(in_channels=32, out_channels=8, kernel_size=self.k3, stride=self.s3, padding=self.pd3),\n",
    "            nn.BatchNorm2d(8, momentum=0.01),\n",
    "            nn.ReLU(inplace=True)\n",
    "        )\n",
    "        self.convTrans8 = nn.Sequential(\n",
    "            nn.ConvTranspose2d(in_channels=8, out_channels=3, kernel_size=self.k2, stride=self.s2, padding=self.pd2),\n",
    "            nn.BatchNorm2d(3, momentum=0.01),\n",
    "            nn.Sigmoid()\n",
    "        )\n",
    "        \n",
    "    def encode(self, x):\n",
    "        x = self.resnet(x)\n",
    "        x = x.view(x.size(0), -1)\n",
    "        \n",
    "        if x.shape[0] > 1:\n",
    "            x = self.bn1(self.fc1(x))\n",
    "        else:\n",
    "            x = self.fc1(x)\n",
    "            \n",
    "        x = self.relu(x)\n",
    "        \n",
    "        if x.shape[0] > 1:\n",
    "            x = self.bn2(self.fc2(x))\n",
    "        else:\n",
    "            x = self.fc2(x)\n",
    "            \n",
    "        x = self.relu(x)\n",
    "        x = self.fc3_mu(x)\n",
    "        return x\n",
    "            \n",
    "    def decode(self, z):\n",
    "        if z.shape[0] > 1:\n",
    "            x = self.relu(self.fc_bn4(self.fc4(z)))\n",
    "            x = self.relu(self.fc_bn5(self.fc5(x))).view(-1, 64, 4, 4)\n",
    "        else:\n",
    "            x = self.relu(self.fc4(z))\n",
    "            x = self.relu(self.fc5(x)).view(-1, 64, 4, 4)\n",
    "        x = self.convTrans6(x)\n",
    "        x = self.convTrans7(x)\n",
    "        x = self.convTrans8(x)\n",
    "        x = F.interpolate(x, size=(64, 64), mode='bilinear', align_corners=True)\n",
    "        return x\n",
    "    \n",
    "    def forward(self, x):\n",
    "        z = self.encode(x)\n",
    "        x_reconst = self.decode(z)\n",
    "        return x_reconst"
   ]
  },
  {
   "cell_type": "code",
   "execution_count": 11,
   "id": "1649fc45-7ade-45ab-af9e-cad3ad960977",
   "metadata": {
    "tags": []
   },
   "outputs": [],
   "source": [
    "def to_float32(x):\n",
    "    return x.to(torch.float32)\n",
    "\n",
    "def normalize(x):\n",
    "    return 2.0 * x / 255.0 - 1.0\n",
    "\n",
    "class CustomTensorDataset(TensorDataset):\n",
    "    def __init__(self, tensors):\n",
    "        self.tensors = tensors\n",
    "        if tensors.shape[-1] == 3:\n",
    "            self.tensors = tensors.permute(0, 3, 1, 2)\n",
    "        self.transform = transforms.Compose([\n",
    "            transforms.Lambda(to_float32),\n",
    "            transforms.Lambda(normalize)\n",
    "        ])\n",
    "    \n",
    "    def __getitem__(self, index):\n",
    "        x = self.tensors[index]\n",
    "        if self.transform:\n",
    "            x = self.transform(x)\n",
    "        return x \n",
    "    \n",
    "    def __len__(self):\n",
    "        return len(self.tensors)"
   ]
  },
  {
   "cell_type": "code",
   "execution_count": 12,
   "id": "eb02c848-c606-4b45-8770-7cc2b6291305",
   "metadata": {
    "tags": []
   },
   "outputs": [],
   "source": [
    "num_epochs = 1\n",
    "batch_size = 64\n",
    "learning_rate = 1e-3\n",
    "\n",
    "x = torch.from_numpy(train)\n",
    "train_dataset = CustomTensorDataset(x)\n",
    "train_sampler = RandomSampler(train_dataset)\n",
    "train_dataloader = DataLoader(train_dataset, sampler=train_sampler, batch_size=batch_size)\n",
    "\n",
    "model_type = 'cnn'\n",
    "model_classes = {\n",
    "    'resnet': Resnet(),\n",
    "    'fcn': fcn_autoencoder(),\n",
    "    'cnn': conv_autoencoder(),\n",
    "    'vae': VAE()\n",
    "}\n",
    "\n",
    "model = model_classes[model_type].to(device)\n",
    "    \n",
    "criterion = nn.MSELoss()\n",
    "optimizer = torch.optim.Adam(model.parameters(), lr=learning_rate)"
   ]
  },
  {
   "cell_type": "code",
   "execution_count": 13,
   "id": "3d7ca681-7d46-49f7-98f5-a0a82e1fa3f6",
   "metadata": {
    "tags": []
   },
   "outputs": [],
   "source": [
    "# best_loss = np.inf \n",
    "# model.train()\n",
    "\n",
    "# qqdm_train = qqdm(range(num_epochs), desc=formatCustomTensorDatasetr('bold', 'Description'))\n",
    "\n",
    "# for epoch in range(num_epochs):\n",
    "#     total_loss = list()\n",
    "#     for data in tqdm(train_dataloader):\n",
    "#         if model_type in ['cnn', 'vae', 'resnet']:\n",
    "#             img = data.float().to(device)\n",
    "#         elif model_type in ['fcn']:\n",
    "#             img = data.float().to(device)\n",
    "#             img = img.view(img.shape[0], -1)\n",
    "            \n",
    "#         output = model(img)\n",
    "        \n",
    "#         if model_type in ['vae']:\n",
    "#             loss = loss_vae(output[0], img, output[1], output[2], criterion)\n",
    "#         else:\n",
    "#             loss = criterion(output, img)\n",
    "#         total_loss.append(loss.item())\n",
    "        \n",
    "#         optimizer.zero_grad()\n",
    "#         loss.backward()\n",
    "#         optimizer.step()\n",
    "        \n",
    "#     mean_loss = np.mean(total_loss)\n",
    "#     if mean_loss < best_loss:\n",
    "#         best_loss = mean_loss\n",
    "#         torch.save(model, './data-bin/best_model_{}.pt'.format(model_type))\n",
    "    \n",
    "#     print('Epoch:', epoch + 1, '|', 'Mean loss:', mean_loss)\n",
    "        \n",
    "#     qqdm_train.set_infos({\n",
    "#         'epoch': f'{epoch + 1:.0f} / {num_epochs:.0f}',\n",
    "#         'loss': f'{mean_loss:.4f}'\n",
    "#     })"
   ]
  },
  {
   "cell_type": "code",
   "execution_count": 14,
   "id": "55045021-553b-4825-8872-2037a2bc39ab",
   "metadata": {
    "tags": []
   },
   "outputs": [
    {
     "data": {
      "text/plain": [
       "conv_autoencoder(\n",
       "  (encoder): Sequential(\n",
       "    (0): Conv2d(3, 12, kernel_size=(4, 4), stride=(2, 2), padding=(1, 1))\n",
       "    (1): ReLU()\n",
       "    (2): Conv2d(12, 24, kernel_size=(4, 4), stride=(2, 2), padding=(1, 1))\n",
       "    (3): ReLU()\n",
       "    (4): Conv2d(24, 48, kernel_size=(4, 4), stride=(2, 2), padding=(1, 1))\n",
       "    (5): ReLU()\n",
       "    (6): Conv2d(48, 96, kernel_size=(4, 4), stride=(2, 2), padding=(1, 1))\n",
       "    (7): ReLU()\n",
       "  )\n",
       "  (decoder): Sequential(\n",
       "    (0): ConvTranspose2d(96, 48, kernel_size=(4, 4), stride=(2, 2), padding=(1, 1))\n",
       "    (1): ReLU()\n",
       "    (2): ConvTranspose2d(48, 24, kernel_size=(4, 4), stride=(2, 2), padding=(1, 1))\n",
       "    (3): ReLU()\n",
       "    (4): ConvTranspose2d(24, 12, kernel_size=(4, 4), stride=(2, 2), padding=(1, 1))\n",
       "    (5): ReLU()\n",
       "    (6): ConvTranspose2d(12, 3, kernel_size=(4, 4), stride=(2, 2), padding=(1, 1))\n",
       "    (7): Tanh()\n",
       "  )\n",
       ")"
      ]
     },
     "execution_count": 14,
     "metadata": {},
     "output_type": "execute_result"
    }
   ],
   "source": [
    "eval_batch_size = 64 \n",
    "\n",
    "data = torch.tensor(test, dtype=torch.float32)\n",
    "test_dataset = CustomTensorDataset(data)\n",
    "test_sampler = SequentialSampler(test_dataset)\n",
    "test_dataloader = DataLoader(test_dataset, sampler=test_sampler, batch_size=eval_batch_size, num_workers=0)\n",
    "eval_loss = nn.MSELoss(reduction='none')\n",
    "\n",
    "model = torch.load('./data-bin/best_model_{}.pt'.format(model_type), map_location=torch.device('cpu'))\n",
    "model.eval()"
   ]
  },
  {
   "cell_type": "code",
   "execution_count": 15,
   "id": "1d019d1a-0fd4-43e7-847d-a52dd28fb032",
   "metadata": {
    "tags": []
   },
   "outputs": [
    {
     "name": "stderr",
     "output_type": "stream",
     "text": [
      "100%|████████████████████████████████████████████████████████████████████████████████| 313/313 [00:53<00:00,  5.85it/s]\n"
     ]
    }
   ],
   "source": [
    "anomality = list()\n",
    "\n",
    "with torch.no_grad():\n",
    "    for data in tqdm(test_dataloader):\n",
    "        if model_type in ['cnn', 'vae', 'resnet']:\n",
    "            img = data.float().to(device)\n",
    "        elif model_type in ['fcn']:\n",
    "            img = data.float().to(device)\n",
    "            img = img.view(img.shape[0], -1)\n",
    "        else:\n",
    "            img = data[0].to(device)\n",
    "        \n",
    "        output = model(img)\n",
    "        \n",
    "        if model_type in ['cnn', 'resnet', 'fcn']:\n",
    "            output = output \n",
    "        elif model_type in ['res_vae']:\n",
    "            output = output[0]\n",
    "        elif model_type in ['vae']:\n",
    "            output = output[0]\n",
    "        \n",
    "        if model_type in ['fcn']:\n",
    "            loss = eval_loss(output, img).sum(-1)\n",
    "        else:\n",
    "            loss = eval_loss(output, img).sum([1, 2, 3])\n",
    "        anomality.append(loss)\n",
    "        \n",
    "anomality = torch.cat(anomality, axis=0)\n",
    "anomality = torch.sqrt(anomality).reshape(len(test), 1).cpu().numpy()\n",
    "\n",
    "df = pd.DataFrame(anomality, columns=['Predicted'])\n",
    "df.to_csv('./data-bin/submission.csv', index_label='Id')"
   ]
  }
 ],
 "metadata": {
  "kernelspec": {
   "display_name": "Python 3 (ipykernel)",
   "language": "python",
   "name": "python3"
  },
  "language_info": {
   "codemirror_mode": {
    "name": "ipython",
    "version": 3
   },
   "file_extension": ".py",
   "mimetype": "text/x-python",
   "name": "python",
   "nbconvert_exporter": "python",
   "pygments_lexer": "ipython3",
   "version": "3.10.9"
  }
 },
 "nbformat": 4,
 "nbformat_minor": 5
}
